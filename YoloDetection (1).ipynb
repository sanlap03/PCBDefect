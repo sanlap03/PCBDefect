{
  "nbformat": 4,
  "nbformat_minor": 0,
  "metadata": {
    "colab": {
      "provenance": [],
      "gpuType": "T4"
    },
    "kernelspec": {
      "name": "python3",
      "display_name": "Python 3"
    },
    "language_info": {
      "name": "python"
    },
    "accelerator": "GPU"
  },
  "cells": [
    {
      "cell_type": "code",
      "execution_count": null,
      "metadata": {
        "colab": {
          "base_uri": "https://localhost:8080/"
        },
        "id": "IvXC4nJki0V4",
        "outputId": "55d2a3a5-849d-4b1f-d716-1ba3b2f70338"
      },
      "outputs": [
        {
          "output_type": "stream",
          "name": "stdout",
          "text": [
            "Cloning into 'XmlToTxt'...\n",
            "remote: Enumerating objects: 105, done.\u001b[K\n",
            "remote: Counting objects: 100% (32/32), done.\u001b[K\n",
            "remote: Compressing objects: 100% (11/11), done.\u001b[K\n",
            "remote: Total 105 (delta 24), reused 22 (delta 20), pack-reused 73\u001b[K\n",
            "Receiving objects: 100% (105/105), 16.44 KiB | 3.29 MiB/s, done.\n",
            "Resolving deltas: 100% (51/51), done.\n"
          ]
        }
      ],
      "source": [
        "!git clone https://github.com/isabek/XmlToTxt.git"
      ]
    },
    {
      "cell_type": "code",
      "source": [
        "import os\n",
        "os.chdir(r\"/content/drive/MyDrive/LicensePlate/imagedataset/XmlToTxt\")\n",
        "!python xmltotxt.py -c classes.txt -xml xml -out out"
      ],
      "metadata": {
        "id": "vekxJJ0pjGv0"
      },
      "execution_count": null,
      "outputs": []
    },
    {
      "cell_type": "code",
      "source": [],
      "metadata": {
        "id": "57oH64oGyJGn",
        "colab": {
          "base_uri": "https://localhost:8080/"
        },
        "outputId": "175de54b-3237-43da-b0a3-f1b8cac3906d"
      },
      "execution_count": null,
      "outputs": [
        {
          "output_type": "stream",
          "name": "stdout",
          "text": [
            "Requirement already satisfied: declxml==0.9.1 in /usr/local/lib/python3.10/dist-packages (from -r /content/XmlToTxt/requirements.txt (line 1)) (0.9.1)\n"
          ]
        }
      ]
    },
    {
      "cell_type": "code",
      "source": [
        "import os\n",
        "import cv2\n",
        "from random import choice\n",
        "import shutil\n",
        "def to_v5_directories(images_train_path,images_val_path,labels_train_path,labels_val_path, dataset_source):\n",
        "    imgs =[]\n",
        "    xmls =[]\n",
        "    trainPath = images_train_path\n",
        "    valPath =  images_val_path\n",
        "    crsPath = dataset_source\n",
        "    train_ratio = 0.8\n",
        "    val_ratio = 0.2\n",
        "    totalImgCount = len(os.listdir(crsPath))/2\n",
        "    for (dirname, dirs, files) in os.walk(crsPath):\n",
        "        for filename in files:\n",
        "            if filename.endswith('.txt'):\n",
        "                xmls.append(filename)\n",
        "            else:\n",
        "                imgs.append(filename)\n",
        "    countForTrain = int(len(imgs)*train_ratio)\n",
        "    countForVal = int(len(imgs)*val_ratio)\n",
        "    trainimagePath = images_train_path\n",
        "    trainlabelPath = labels_train_path\n",
        "    valimagePath = images_val_path\n",
        "    vallabelPath = labels_val_path\n",
        "    for x in range(countForTrain):\n",
        "        fileJpg = choice(imgs)\n",
        "        fileXml = fileJpg[:-4] +'.txt'\n",
        "        img= cv2.imread(os.path.join(crsPath, fileJpg))\n",
        "        img=cv2.resize(img,(224,224))\n",
        "        img=cv2.cvtColor(img,cv2.COLOR_BGR2RGB)\n",
        "        img = cv2.normalize(img, None, alpha=0, beta=255, norm_type=cv2.NORM_MINMAX, dtype=cv2.CV_32F)\n",
        "        img=cv2.cvtColor(img,cv2.COLOR_RGB2BGR)\n",
        "        img=cv2.GaussianBlur(img,(5,5),0)\n",
        "        img=cv2.fastNlMeansDenoisingColored(img,None,10,10,7,21)\n",
        "        cv2.imwrite(os.path.join(trainPath, fileJpg),img)\n",
        "        shutil.copy(os.path.join(crsPath, fileXml), os.path.join(trainlabelPath, fileXml))\n",
        "        imgs.remove(fileJpg)\n",
        "        xmls.remove(fileXml)\n",
        "    for x in range(countForVal):\n",
        "        fileJpg = choice(imgs)\n",
        "        fileXml = fileJpg[:-4] +'.txt'\n",
        "        img= cv2.imread(os.path.join(crsPath, fileJpg))\n",
        "        img=cv2.resize(img,(224,224))\n",
        "        img=cv2.cvtColor(img,cv2.COLOR_BGR2RGB)\n",
        "        img = cv2.normalize(img, None, alpha=0, beta=255, norm_type=cv2.NORM_MINMAX, dtype=cv2.CV_32F)\n",
        "        img=cv2.cvtColor(img,cv2.COLOR_RGB2BGR)\n",
        "        img=cv2.GaussianBlur(img,(5,5),0)\n",
        "        img=cv2.fastNlMeansDenoisingColored(img,None,10,10,7,21)\n",
        "        cv2.imwrite(os.path.join(trainPath, fileJpg),img)\n",
        "        shutil.copy(os.path.join(crsPath, fileXml), os.path.join(vallabelPath, fileXml))\n",
        "        imgs.remove(fileJpg)\n",
        "        xmls.remove(fileXml)\n",
        "    print(\"Training images are : \",countForTrain)\n",
        "    print(\"Validation images are : \",countForVal)\n",
        "#     shutil.move(crsPath, valPath)"
      ],
      "metadata": {
        "id": "Y5urbSTx3Zhp"
      },
      "execution_count": null,
      "outputs": []
    },
    {
      "cell_type": "code",
      "source": [
        "to_v5_directories(\"/content/drive/MyDrive/PCB/imagedataset/dataset/images/train\", \"/content/drive/MyDrive/PCB/imagedataset/dataset/images/val\", \"/content/drive/MyDrive/PCB/imagedataset/dataset/labels/train\",\"/content/drive/MyDrive/PCB/imagedataset/dataset/labels/val\",\"/content/drive/MyDrive/PCB/imagedataset/images\")\n",
        "\n",
        "\n"
      ],
      "metadata": {
        "id": "aRE9paI5szdl",
        "colab": {
          "base_uri": "https://localhost:8080/"
        },
        "outputId": "1f8fe324-327e-43bb-8326-cd41037dcac5"
      },
      "execution_count": null,
      "outputs": [
        {
          "output_type": "stream",
          "name": "stdout",
          "text": [
            "Training images are :  346\n",
            "Validation images are :  86\n"
          ]
        }
      ]
    }
  ]
}