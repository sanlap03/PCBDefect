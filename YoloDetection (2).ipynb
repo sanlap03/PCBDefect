{
  "nbformat": 4,
  "nbformat_minor": 0,
  "metadata": {
    "colab": {
      "provenance": [],
      "gpuType": "T4"
    },
    "kernelspec": {
      "name": "python3",
      "display_name": "Python 3"
    },
    "language_info": {
      "name": "python"
    },
    "accelerator": "GPU"
  },
  "cells": [
    {
      "cell_type": "code",
      "execution_count": null,
      "metadata": {
        "colab": {
          "base_uri": "https://localhost:8080/"
        },
        "id": "IvXC4nJki0V4",
        "outputId": "55d2a3a5-849d-4b1f-d716-1ba3b2f70338"
      },
      "outputs": [
        {
          "output_type": "stream",
          "name": "stdout",
          "text": [
            "Cloning into 'XmlToTxt'...\n",
            "remote: Enumerating objects: 105, done.\u001b[K\n",
            "remote: Counting objects: 100% (32/32), done.\u001b[K\n",
            "remote: Compressing objects: 100% (11/11), done.\u001b[K\n",
            "remote: Total 105 (delta 24), reused 22 (delta 20), pack-reused 73\u001b[K\n",
            "Receiving objects: 100% (105/105), 16.44 KiB | 3.29 MiB/s, done.\n",
            "Resolving deltas: 100% (51/51), done.\n"
          ]
        }
      ],
      "source": [
        "!git clone https://github.com/isabek/XmlToTxt.git"
      ]
    },
    {
      "cell_type": "code",
      "source": [
        "import os\n",
        "os.chdir(r\"/content/drive/MyDrive/PCB/imagedataset/XmlToTxt\")\n",
        "!python xmltotxt.py -c classes.txt -xml xml -out out"
      ],
      "metadata": {
        "id": "vekxJJ0pjGv0"
      },
      "execution_count": null,
      "outputs": []
    },
    {
      "cell_type": "code",
      "source": [],
      "metadata": {
        "id": "57oH64oGyJGn",
        "colab": {
          "base_uri": "https://localhost:8080/"
        },
        "outputId": "175de54b-3237-43da-b0a3-f1b8cac3906d"
      },
      "execution_count": null,
      "outputs": [
        {
          "output_type": "stream",
          "name": "stdout",
          "text": [
            "Requirement already satisfied: declxml==0.9.1 in /usr/local/lib/python3.10/dist-packages (from -r /content/XmlToTxt/requirements.txt (line 1)) (0.9.1)\n"
          ]
        }
      ]
    },
    {
      "cell_type": "code",
      "source": [
        "import os\n",
        "import cv2\n",
        "import numpy as np\n",
        "import shutil\n",
        "import glob\n",
        "import random\n",
        "\n",
        "def collect_files(source_folder, img_ext=\".jpg\", lbl_ext=\".txt\"):\n",
        "    \"\"\"Collect and return lists of image and label file paths.\"\"\"\n",
        "    image_files = sorted(glob.glob(os.path.join(source_folder, f\"*{img_ext}\")))\n",
        "    label_files = sorted(glob.glob(os.path.join(source_folder, f\"*{lbl_ext}\")))\n",
        "    return image_files, label_files\n",
        "\n",
        "def split_dataset(image_files, train_ratio=0.8):\n",
        "    \"\"\"Shuffle and split image file paths into training and validation sets.\"\"\"\n",
        "    random.shuffle(image_files)\n",
        "    train_count = int(len(image_files) * train_ratio)\n",
        "    train_files = image_files[:train_count]\n",
        "    val_files = image_files[train_count:]\n",
        "    return train_files, val_files\n",
        "\n"
      ],
      "metadata": {
        "id": "Y5urbSTx3Zhp"
      },
      "execution_count": null,
      "outputs": []
    },
    {
      "cell_type": "code",
      "source": [
        "def preprocess_image(image_path, target_size=(224, 224)):\n",
        "    \"\"\"Load, preprocess, and return an image as a numpy array.\"\"\"\n",
        "    img = cv2.imread(image_path)\n",
        "    if img is None:\n",
        "        return None\n",
        "    img = cv2.resize(img, target_size)\n",
        "    img = cv2.cvtColor(img, cv2.COLOR_BGR2RGB)\n",
        "    img = cv2.normalize(img.astype(np.float32), None, 0, 255, cv2.NORM_MINMAX)\n",
        "    img = cv2.cvtColor(img, cv2.COLOR_RGB2BGR)\n",
        "    img = cv2.GaussianBlur(img, (5, 5), 0)\n",
        "    img = cv2.fastNlMeansDenoisingColored(img, None, 10, 10, 7, 21)\n",
        "    return img"
      ],
      "metadata": {
        "id": "EfHYzEcydOFx"
      },
      "execution_count": null,
      "outputs": []
    },
    {
      "cell_type": "code",
      "source": [
        "def save_files(file_list, dest_img_dir, dest_lbl_dir, label_ext=\".txt\"):\n",
        "    \"\"\"Save processed images and copy corresponding label files.\"\"\"\n",
        "    for img_path in file_list:\n",
        "        img_name = os.path.basename(img_path)\n",
        "        lbl_name = img_name.replace('.jpg', label_ext)\n",
        "        lbl_path = os.path.join(os.path.dirname(img_path), lbl_name)\n",
        "\n",
        "        processed_img = preprocess_image(img_path)\n",
        "        if processed_img is not None:\n",
        "            cv2.imwrite(os.path.join(dest_img_dir, img_name), processed_img)\n",
        "            shutil.copy(lbl_path, os.path.join(dest_lbl_dir, lbl_name))\n",
        "\n",
        "def to_v5_directories(train_img_dir, val_img_dir, train_lbl_dir, val_lbl_dir, source_folder):\n",
        "    \"\"\"Main function to organize dataset into train and validation sets.\"\"\"\n",
        "    images, labels = collect_files(source_folder)\n",
        "    train_imgs, val_imgs = split_dataset(images)\n",
        "\n",
        "    # Ensure destination directories exist\n",
        "    os.makedirs(train_img_dir, exist_ok=True)\n",
        "    os.makedirs(val_img_dir, exist_ok=True)\n",
        "    os.makedirs(train_lbl_dir, exist_ok=True)\n",
        "    os.makedirs(val_lbl_dir, exist_ok=True)\n",
        "\n",
        "    # Save train and validation files\n",
        "    save_files(train_imgs, train_img_dir, train_lbl_dir)\n",
        "    save_files(val_imgs, val_img_dir, val_lbl_dir)\n",
        "\n",
        "    print(\"Training images:\", len(train_imgs))\n",
        "    print(\"Validation images:\", len(val_imgs))\n"
      ],
      "metadata": {
        "id": "QCpAyj5SdpkN"
      },
      "execution_count": null,
      "outputs": []
    },
    {
      "cell_type": "code",
      "source": [
        "to_v5_directories(\"/content/drive/MyDrive/PCB/imagedataset/dataset/images/train\", \"/content/drive/MyDrive/PCB/imagedataset/dataset/images/val\", \"/content/drive/MyDrive/PCB/imagedataset/dataset/labels/train\",\"/content/drive/MyDrive/PCB/imagedataset/dataset/labels/val\",\"/content/drive/MyDrive/PCB/imagedataset/images\")\n",
        "\n",
        "\n"
      ],
      "metadata": {
        "id": "aRE9paI5szdl",
        "colab": {
          "base_uri": "https://localhost:8080/"
        },
        "outputId": "1f8fe324-327e-43bb-8326-cd41037dcac5"
      },
      "execution_count": null,
      "outputs": [
        {
          "output_type": "stream",
          "name": "stdout",
          "text": [
            "Training images are :  346\n",
            "Validation images are :  86\n"
          ]
        }
      ]
    }
  ]
}